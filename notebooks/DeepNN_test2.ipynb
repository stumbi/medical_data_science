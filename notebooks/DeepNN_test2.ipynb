{
 "cells": [
  {
   "cell_type": "code",
   "execution_count": 53,
   "id": "fd18b62b",
   "metadata": {},
   "outputs": [],
   "source": [
    "import numpy as np\n",
    "import matplotlib.pyplot as plt\n",
    "\n",
    "from sklearn import metrics\n",
    "from sklearn.metrics import classification_report\n",
    "from sklearn import preprocessing\n",
    "\n",
    "import keras\n",
    "from keras.models import Sequential\n",
    "from keras.layers import Dense, Dropout, Flatten, Reshape, TimeDistributed\n",
    "from keras.layers import Conv1D, MaxPooling1D, MaxPooling2D\n",
    "from keras.utils import np_utils\n",
    "from tensorflow.keras import models, layers, utils, backend as K\n",
    "from tensorflow.keras.optimizers import Adam"
   ]
  },
  {
   "cell_type": "code",
   "execution_count": 3,
   "id": "b253228f",
   "metadata": {},
   "outputs": [],
   "source": [
    "#labels\n",
    "LABELS = ['Standing',\n",
    "          'Sitting',\n",
    "          'Lying',\n",
    "          'Squatting',\n",
    "          'Walking',\n",
    "          'Bending']\n",
    "\n",
    "labeldict = {\n",
    "0 : \"Bring\",\n",
    "1 : \"Clean Floor\",\n",
    "2 : \"Clean Surface\",\n",
    "4 : \"Close Door\",\n",
    "5 : \"Close Drawer\",\n",
    "6 : \"Close Lid By Rotate\",\n",
    "7 : \"Close Other Lid\",\n",
    "8 : \"Close Small Box\",\n",
    "9 : \"Close Tap Water\",\n",
    "10 : \"Drink\",\n",
    "11 : \"Dry Off Hands\",\n",
    "12 : \"Dry Off Hands By Shake\",\n",
    "13 : \"Eat Small\",\n",
    "14 : \"Gargle\",\n",
    "15 : \"Getting Up\",\n",
    "16 : \"Hang\",\n",
    "17 : \"Lying Down\",\n",
    "18 : \"Open Bag\",\n",
    "19 : \"Open Big Box\",\n",
    "20 : \"Open Door\",\n",
    "21 : \"Open Drawer\",\n",
    "22 : \"Open Lid By Rotate\",\n",
    "23 : \"Open Other Lid\",\n",
    "24 : \"Open Small Box\",\n",
    "25 : \"Open Tap Water\",\n",
    "26 : \"Plug In\",\n",
    "27 : \"Press by Grasp\",\n",
    "28 : \"Press From Top\",\n",
    "29 : \"Press Switch\",\n",
    "30 : \"Put From Bottle\",\n",
    "31 : \"Put From Tap Water\",\n",
    "32 : \"Put High Position\",\n",
    "33 : \"Put On Floor\",\n",
    "34 : \"Read\",\n",
    "35 : \"Rotate\",\n",
    "36 : \"Rub Hands\",\n",
    "37 : \"Scoop And Put\",\n",
    "38 : \"Sitting Down\",\n",
    "39 : \"Squatting Down\",\n",
    "40 : \"Standing Up\",\n",
    "41 : \"Stand Up From Squatting\",\n",
    "42 : \"Take From Floor\",\n",
    "43 : \"Take From High Position\",\n",
    "44 : \"Take Off Jacket\",\n",
    "45 : \"Take Out\",\n",
    "46 : \"Talk By Telephone\",\n",
    "47 : \"Throw Out\",\n",
    "48 : \"Throw Out Water\",\n",
    "49 : \"Touch Smartphone Screen\",\n",
    "50 : \"Type\",\n",
    "51 : \"Unhang\",\n",
    "52 : \"Unplug\",\n",
    "53 : \"Wear Jacket\",\n",
    "54 : \"Write\"\n",
    "}\n",
    "\n",
    "#load data\n",
    "#training\n",
    "train_acc = np.load('../data/training/trainAccelerometer.npy')\n",
    "train_gra = np.load('../data/training/trainGravity.npy')\n",
    "train_gyr = np.load('../data/training/trainGyroscope.npy')\n",
    "train_lin = np.load('../data/training/trainLinearAcceleration.npy')\n",
    "\n",
    "train_mag = np.load('../data/training/trainMagnetometer800.npy')\n",
    "\n",
    "trainJins_acc = np.load('../data/training/trainJinsAccelerometer800.npy')\n",
    "trainJins_gyr = np.load('../data/training/trainJinsGyroscope800.npy')\n",
    "\n",
    "trainMS_acc = np.load('../data/training/trainMSAccelerometer800.npy')\n",
    "trainMS_gyr = np.load('../data/training/trainMSGyroscope800.npy')\n",
    "\n",
    "train_label = np.load('../data/training/trainLabels.npy')\n",
    "\n",
    "#train_data = [train_acc, train_gra, train_gyr, train_lin, train_mag, trainJins_acc, trainJins_gyr, trainMS_acc, trainMS_gyr]\n",
    "\n",
    "test_acc = np.load('../data/testing/testAccelerometer.npy')\n",
    "test_gra = np.load('../data/testing/testGravity.npy')\n",
    "test_gyr = np.load('../data/testing/testGyroscope.npy')\n",
    "test_mag = np.load('../data/testing/testMagnetometer800.npy')\n",
    "test_lin = np.load('../data/testing/testLinearAcceleration.npy')\n",
    "\n",
    "testJins_acc = np.load('../data/testing/testJinsAccelerometer800.npy')\n",
    "testJins_gyr = np.load('../data/testing/testJinsGyroscope800.npy')\n",
    "\n",
    "testMS_acc = np.load('../data/testing/testMSAccelerometer800.npy')\n",
    "testMS_gyr = np.load('../data/testing/testMSGyroscope800.npy')\n",
    "\n",
    "test_label = np.load('../data/testing/testLabels.npy')\n",
    "\n",
    "#test_data = [test_acc, test_gra, test_gyr, test_lin, test_mag, testJins_acc, testJins_gyr, testMS_acc, testMS_gyr]"
   ]
  },
  {
   "cell_type": "code",
   "execution_count": 3,
   "id": "83bc23f4",
   "metadata": {},
   "outputs": [],
   "source": [
    "#ToDo: : smartphone/smartwatch placed in the left pocket/on the left arm differences \n",
    "#between left and right hand executions for some behavioural activities"
   ]
  },
  {
   "cell_type": "code",
   "execution_count": 4,
   "id": "7b742d9f",
   "metadata": {},
   "outputs": [
    {
     "name": "stdout",
     "output_type": "stream",
     "text": [
      "(2284, 800, 27)\n",
      "(2288, 800, 27)\n",
      "2288\n",
      "float32\n"
     ]
    }
   ],
   "source": [
    "#create input feature vector\n",
    "\n",
    "#train vector\n",
    "train_data = [train_gyr, train_mag, train_lin, trainJins_acc, trainJins_gyr, trainMS_acc, trainMS_gyr]\n",
    "\n",
    "train_features = np.append(train_acc, train_gra, axis=2)\n",
    "for i in train_data:\n",
    "    train_features = np.append(train_features, i, axis=2)\n",
    "\n",
    "print(train_features.shape)\n",
    "#print(train_features)\n",
    "\n",
    "\n",
    "#test vector\n",
    "test_data = [ test_gyr, test_mag, test_lin, testJins_acc, testJins_gyr, testMS_acc, testMS_gyr]\n",
    "test_features = np.append(test_acc, test_gra, axis =2)\n",
    "for i in test_data:\n",
    "    test_features = np.append(test_features, i, axis=2)\n",
    "\n",
    "print(test_features.shape)\n",
    "print(test_features.shape[0])\n",
    "print(test_features.dtype)\n",
    "#print(test_features[0])"
   ]
  },
  {
   "cell_type": "code",
   "execution_count": 5,
   "id": "3466a273",
   "metadata": {
    "scrolled": true
   },
   "outputs": [
    {
     "data": {
      "image/png": "[encoded data removed]",
      "text/plain": [
       "<Figure size 432x288 with 1 Axes>"
      ]
     },
     "metadata": {
      "needs_background": "light"
     },
     "output_type": "display_data"
    },
    {
     "name": "stdout",
     "output_type": "stream",
     "text": [
      "Open Bag\n"
     ]
    }
   ],
   "source": [
    "#print(test_label)\n",
    "#print(train_features)\n",
    "#all samples of first activity\n",
    "n = 18\n",
    "plt.plot(train_features[n])\n",
    "plt.show()\n",
    "print(labeldict[n])"
   ]
  },
  {
   "cell_type": "markdown",
   "id": "9700eee1",
   "metadata": {},
   "source": [
    "#numeric values can be misinterpreted by algorithms as having some sort of hierarchy/order in them\n",
    "#done with one-hot-encoding\n",
    "y_train_hot = np_utils.to_categorical(train_label, num_classes)\n",
    "print('New y_train shape: ', y_train_hot.shape)"
   ]
  },
  {
   "cell_type": "code",
   "execution_count": 80,
   "id": "79622759",
   "metadata": {},
   "outputs": [
    {
     "name": "stdout",
     "output_type": "stream",
     "text": [
      "(2284, 800, 27)\n"
     ]
    }
   ],
   "source": [
    "\n",
    "#number of hidden layer: around (number of inputs + 1)/2\n",
    "\n",
    "#(input: ?-dimensional vectors) \n",
    "#       ↧\n",
    "\n",
    "#.\n",
    "#.\n",
    "#.\n",
    "#       ↧\n",
    "#[Dense (1? units, softmax activation)]\n",
    "#       ↧\n",
    "#(output: integer for human activity (0-54))\n",
    "\n",
    "#training data:\n",
    "X_train = train_features\n",
    "Y_train = train_label\n",
    "\n",
    "print(X_train.shape)\n",
    "X_test = test_features\n",
    "Y_test = test_label"
   ]
  },
  {
   "cell_type": "code",
   "execution_count": 82,
   "id": "d06d2ad6",
   "metadata": {},
   "outputs": [],
   "source": [
    "def evaluate_model(trainX, trainy, testX, testy):\n",
    "    verbose, epochs, batch_size = 2, 10, 100\n",
    "    n_timesteps, n_features, n_outputs = 800, 27, 1\n",
    "    model = Sequential()\n",
    "    model.add(Conv1D(filters=64, kernel_size=3, activation='relu',\n",
    "    input_shape=(n_timesteps,n_features)))\n",
    "    # model.add(Conv1D(filters=64, kernel_size=3, activation='relu'))\n",
    "    # model.add(Dropout(0.5))\n",
    "    # model.add(MaxPooling1D(pool_size=2))\n",
    "    # model.add(Flatten())\n",
    "    # model.add(Dropout(0.5))\n",
    "    model.add(Dense(100, activation='relu'))\n",
    "    model.add(Dense(n_outputs, activation='softmax'))\n",
    "    model.compile(loss='categorical_crossentropy', optimizer=Adam(learning_rate=0.001), metrics=['accuracy'])\n",
    "    # fit network\n",
    "    model.fit(trainX, trainy, epochs=epochs, batch_size=batch_size, verbose=verbose, shuffle=True)\n",
    "    # evaluate model\n",
    "    _, accuracy = model.evaluate(testX, testy, batch_size=batch_size, verbose=0)\n",
    "    return accuracy"
   ]
  },
  {
   "cell_type": "code",
   "execution_count": 50,
   "id": "a6007f29",
   "metadata": {},
   "outputs": [],
   "source": [
    "# summarize scores\n",
    "def summarize_results(scores):\n",
    "    print(scores)\n",
    "    m, s = np.mean(scores), np.std(scores)\n",
    "    print('Accuracy: %.3f%% (+/-%.3f)' % (m, s))"
   ]
  },
  {
   "cell_type": "code",
   "execution_count": 74,
   "id": "c3fa77ef",
   "metadata": {},
   "outputs": [],
   "source": [
    "# run an experiment\n",
    "def run_experiment(repeats=1):\n",
    "    # load data\n",
    "    trainX, trainy, testX, testy = train_features, Y_train, test_features, test_label\n",
    "    # repeat experiment\n",
    "    scores = list()\n",
    "    for r in range(repeats):\n",
    "        score = evaluate_model(trainX, trainy, testX, Y_test)\n",
    "        score = score * 100.0\n",
    "        print('>#%d: %.3f' % (r+1, score))\n",
    "        scores.append(score)\n",
    "    # summarize results\n",
    "    summarize_results(scores)"
   ]
  },
  {
   "cell_type": "code",
   "execution_count": 83,
   "id": "66c7c817",
   "metadata": {},
   "outputs": [
    {
     "name": "stdout",
     "output_type": "stream",
     "text": [
      "Epoch 1/10\n"
     ]
    },
    {
     "ename": "ValueError",
     "evalue": "in user code:\n\n    File \"C:\\Users\\nils0\\anaconda3\\envs\\MDS\\lib\\site-packages\\keras\\engine\\training.py\", line 1021, in train_function  *\n        return step_function(self, iterator)\n    File \"C:\\Users\\nils0\\anaconda3\\envs\\MDS\\lib\\site-packages\\keras\\engine\\training.py\", line 1010, in step_function  **\n        outputs = model.distribute_strategy.run(run_step, args=(data,))\n    File \"C:\\Users\\nils0\\anaconda3\\envs\\MDS\\lib\\site-packages\\keras\\engine\\training.py\", line 1000, in run_step  **\n        outputs = model.train_step(data)\n    File \"C:\\Users\\nils0\\anaconda3\\envs\\MDS\\lib\\site-packages\\keras\\engine\\training.py\", line 860, in train_step\n        loss = self.compute_loss(x, y, y_pred, sample_weight)\n    File \"C:\\Users\\nils0\\anaconda3\\envs\\MDS\\lib\\site-packages\\keras\\engine\\training.py\", line 918, in compute_loss\n        return self.compiled_loss(\n    File \"C:\\Users\\nils0\\anaconda3\\envs\\MDS\\lib\\site-packages\\keras\\engine\\compile_utils.py\", line 201, in __call__\n        loss_value = loss_obj(y_t, y_p, sample_weight=sw)\n    File \"C:\\Users\\nils0\\anaconda3\\envs\\MDS\\lib\\site-packages\\keras\\losses.py\", line 141, in __call__\n        losses = call_fn(y_true, y_pred)\n    File \"C:\\Users\\nils0\\anaconda3\\envs\\MDS\\lib\\site-packages\\keras\\losses.py\", line 245, in call  **\n        return ag_fn(y_true, y_pred, **self._fn_kwargs)\n    File \"C:\\Users\\nils0\\anaconda3\\envs\\MDS\\lib\\site-packages\\keras\\losses.py\", line 1789, in categorical_crossentropy\n        return backend.categorical_crossentropy(\n    File \"C:\\Users\\nils0\\anaconda3\\envs\\MDS\\lib\\site-packages\\keras\\backend.py\", line 5083, in categorical_crossentropy\n        target.shape.assert_is_compatible_with(output.shape)\n\n    ValueError: Shapes (None,) and (None, 798, 1) are incompatible\n",
     "output_type": "error",
     "traceback": [
      "\u001b[1;31m---------------------------------------------------------------------------\u001b[0m",
      "\u001b[1;31mValueError\u001b[0m                                Traceback (most recent call last)",
      "Input \u001b[1;32mIn [83]\u001b[0m, in \u001b[0;36m<cell line: 1>\u001b[1;34m()\u001b[0m\n\u001b[1;32m----> 1\u001b[0m \u001b[43mrun_experiment\u001b[49m\u001b[43m(\u001b[49m\u001b[43m)\u001b[49m\n",
      "Input \u001b[1;32mIn [74]\u001b[0m, in \u001b[0;36mrun_experiment\u001b[1;34m(repeats)\u001b[0m\n\u001b[0;32m      6\u001b[0m scores \u001b[38;5;241m=\u001b[39m \u001b[38;5;28mlist\u001b[39m()\n\u001b[0;32m      7\u001b[0m \u001b[38;5;28;01mfor\u001b[39;00m r \u001b[38;5;129;01min\u001b[39;00m \u001b[38;5;28mrange\u001b[39m(repeats):\n\u001b[1;32m----> 8\u001b[0m     score \u001b[38;5;241m=\u001b[39m \u001b[43mevaluate_model\u001b[49m\u001b[43m(\u001b[49m\u001b[43mtrainX\u001b[49m\u001b[43m,\u001b[49m\u001b[43m \u001b[49m\u001b[43mtrainy\u001b[49m\u001b[43m,\u001b[49m\u001b[43m \u001b[49m\u001b[43mtestX\u001b[49m\u001b[43m,\u001b[49m\u001b[43m \u001b[49m\u001b[43mY_test\u001b[49m\u001b[43m)\u001b[49m\n\u001b[0;32m      9\u001b[0m     score \u001b[38;5;241m=\u001b[39m score \u001b[38;5;241m*\u001b[39m \u001b[38;5;241m100.0\u001b[39m\n\u001b[0;32m     10\u001b[0m     \u001b[38;5;28mprint\u001b[39m(\u001b[38;5;124m'\u001b[39m\u001b[38;5;124m>#\u001b[39m\u001b[38;5;132;01m%d\u001b[39;00m\u001b[38;5;124m: \u001b[39m\u001b[38;5;132;01m%.3f\u001b[39;00m\u001b[38;5;124m'\u001b[39m \u001b[38;5;241m%\u001b[39m (r\u001b[38;5;241m+\u001b[39m\u001b[38;5;241m1\u001b[39m, score))\n",
      "Input \u001b[1;32mIn [82]\u001b[0m, in \u001b[0;36mevaluate_model\u001b[1;34m(trainX, trainy, testX, testy)\u001b[0m\n\u001b[0;32m     14\u001b[0m model\u001b[38;5;241m.\u001b[39mcompile(loss\u001b[38;5;241m=\u001b[39m\u001b[38;5;124m'\u001b[39m\u001b[38;5;124mcategorical_crossentropy\u001b[39m\u001b[38;5;124m'\u001b[39m, optimizer\u001b[38;5;241m=\u001b[39mAdam(learning_rate\u001b[38;5;241m=\u001b[39m\u001b[38;5;241m0.001\u001b[39m), metrics\u001b[38;5;241m=\u001b[39m[\u001b[38;5;124m'\u001b[39m\u001b[38;5;124maccuracy\u001b[39m\u001b[38;5;124m'\u001b[39m])\n\u001b[0;32m     15\u001b[0m \u001b[38;5;66;03m# fit network\u001b[39;00m\n\u001b[1;32m---> 16\u001b[0m \u001b[43mmodel\u001b[49m\u001b[38;5;241;43m.\u001b[39;49m\u001b[43mfit\u001b[49m\u001b[43m(\u001b[49m\u001b[43mtrainX\u001b[49m\u001b[43m,\u001b[49m\u001b[43m \u001b[49m\u001b[43mtrainy\u001b[49m\u001b[43m,\u001b[49m\u001b[43m \u001b[49m\u001b[43mepochs\u001b[49m\u001b[38;5;241;43m=\u001b[39;49m\u001b[43mepochs\u001b[49m\u001b[43m,\u001b[49m\u001b[43m \u001b[49m\u001b[43mbatch_size\u001b[49m\u001b[38;5;241;43m=\u001b[39;49m\u001b[43mbatch_size\u001b[49m\u001b[43m,\u001b[49m\u001b[43m \u001b[49m\u001b[43mverbose\u001b[49m\u001b[38;5;241;43m=\u001b[39;49m\u001b[43mverbose\u001b[49m\u001b[43m,\u001b[49m\u001b[43m \u001b[49m\u001b[43mshuffle\u001b[49m\u001b[38;5;241;43m=\u001b[39;49m\u001b[38;5;28;43;01mTrue\u001b[39;49;00m\u001b[43m)\u001b[49m\n\u001b[0;32m     17\u001b[0m \u001b[38;5;66;03m# evaluate model\u001b[39;00m\n\u001b[0;32m     18\u001b[0m _, accuracy \u001b[38;5;241m=\u001b[39m model\u001b[38;5;241m.\u001b[39mevaluate(testX, testy, batch_size\u001b[38;5;241m=\u001b[39mbatch_size, verbose\u001b[38;5;241m=\u001b[39m\u001b[38;5;241m0\u001b[39m)\n",
      "File \u001b[1;32m~\\anaconda3\\envs\\MDS\\lib\\site-packages\\keras\\utils\\traceback_utils.py:67\u001b[0m, in \u001b[0;36mfilter_traceback.<locals>.error_handler\u001b[1;34m(*args, **kwargs)\u001b[0m\n\u001b[0;32m     65\u001b[0m \u001b[38;5;28;01mexcept\u001b[39;00m \u001b[38;5;167;01mException\u001b[39;00m \u001b[38;5;28;01mas\u001b[39;00m e:  \u001b[38;5;66;03m# pylint: disable=broad-except\u001b[39;00m\n\u001b[0;32m     66\u001b[0m   filtered_tb \u001b[38;5;241m=\u001b[39m _process_traceback_frames(e\u001b[38;5;241m.\u001b[39m__traceback__)\n\u001b[1;32m---> 67\u001b[0m   \u001b[38;5;28;01mraise\u001b[39;00m e\u001b[38;5;241m.\u001b[39mwith_traceback(filtered_tb) \u001b[38;5;28;01mfrom\u001b[39;00m \u001b[38;5;28mNone\u001b[39m\n\u001b[0;32m     68\u001b[0m \u001b[38;5;28;01mfinally\u001b[39;00m:\n\u001b[0;32m     69\u001b[0m   \u001b[38;5;28;01mdel\u001b[39;00m filtered_tb\n",
      "File \u001b[1;32m~\\anaconda3\\envs\\MDS\\lib\\site-packages\\tensorflow\\python\\framework\\func_graph.py:1147\u001b[0m, in \u001b[0;36mfunc_graph_from_py_func.<locals>.autograph_handler\u001b[1;34m(*args, **kwargs)\u001b[0m\n\u001b[0;32m   1145\u001b[0m \u001b[38;5;28;01mexcept\u001b[39;00m \u001b[38;5;167;01mException\u001b[39;00m \u001b[38;5;28;01mas\u001b[39;00m e:  \u001b[38;5;66;03m# pylint:disable=broad-except\u001b[39;00m\n\u001b[0;32m   1146\u001b[0m   \u001b[38;5;28;01mif\u001b[39;00m \u001b[38;5;28mhasattr\u001b[39m(e, \u001b[38;5;124m\"\u001b[39m\u001b[38;5;124mag_error_metadata\u001b[39m\u001b[38;5;124m\"\u001b[39m):\n\u001b[1;32m-> 1147\u001b[0m     \u001b[38;5;28;01mraise\u001b[39;00m e\u001b[38;5;241m.\u001b[39mag_error_metadata\u001b[38;5;241m.\u001b[39mto_exception(e)\n\u001b[0;32m   1148\u001b[0m   \u001b[38;5;28;01melse\u001b[39;00m:\n\u001b[0;32m   1149\u001b[0m     \u001b[38;5;28;01mraise\u001b[39;00m\n",
      "\u001b[1;31mValueError\u001b[0m: in user code:\n\n    File \"C:\\Users\\nils0\\anaconda3\\envs\\MDS\\lib\\site-packages\\keras\\engine\\training.py\", line 1021, in train_function  *\n        return step_function(self, iterator)\n    File \"C:\\Users\\nils0\\anaconda3\\envs\\MDS\\lib\\site-packages\\keras\\engine\\training.py\", line 1010, in step_function  **\n        outputs = model.distribute_strategy.run(run_step, args=(data,))\n    File \"C:\\Users\\nils0\\anaconda3\\envs\\MDS\\lib\\site-packages\\keras\\engine\\training.py\", line 1000, in run_step  **\n        outputs = model.train_step(data)\n    File \"C:\\Users\\nils0\\anaconda3\\envs\\MDS\\lib\\site-packages\\keras\\engine\\training.py\", line 860, in train_step\n        loss = self.compute_loss(x, y, y_pred, sample_weight)\n    File \"C:\\Users\\nils0\\anaconda3\\envs\\MDS\\lib\\site-packages\\keras\\engine\\training.py\", line 918, in compute_loss\n        return self.compiled_loss(\n    File \"C:\\Users\\nils0\\anaconda3\\envs\\MDS\\lib\\site-packages\\keras\\engine\\compile_utils.py\", line 201, in __call__\n        loss_value = loss_obj(y_t, y_p, sample_weight=sw)\n    File \"C:\\Users\\nils0\\anaconda3\\envs\\MDS\\lib\\site-packages\\keras\\losses.py\", line 141, in __call__\n        losses = call_fn(y_true, y_pred)\n    File \"C:\\Users\\nils0\\anaconda3\\envs\\MDS\\lib\\site-packages\\keras\\losses.py\", line 245, in call  **\n        return ag_fn(y_true, y_pred, **self._fn_kwargs)\n    File \"C:\\Users\\nils0\\anaconda3\\envs\\MDS\\lib\\site-packages\\keras\\losses.py\", line 1789, in categorical_crossentropy\n        return backend.categorical_crossentropy(\n    File \"C:\\Users\\nils0\\anaconda3\\envs\\MDS\\lib\\site-packages\\keras\\backend.py\", line 5083, in categorical_crossentropy\n        target.shape.assert_is_compatible_with(output.shape)\n\n    ValueError: Shapes (None,) and (None, 798, 1) are incompatible\n"
     ]
    }
   ],
   "source": [
    "run_experiment()"
   ]
  }
 ],
 "metadata": {
  "kernelspec": {
   "display_name": "Python 3 (ipykernel)",
   "language": "python",
   "name": "python3"
  },
  "language_info": {
   "codemirror_mode": {
    "name": "ipython",
    "version": 3
   },
   "file_extension": ".py",
   "mimetype": "text/x-python",
   "name": "python",
   "nbconvert_exporter": "python",
   "pygments_lexer": "ipython3",
   "version": "3.9.12"
  }
 },
 "nbformat": 4,
 "nbformat_minor": 5
}
