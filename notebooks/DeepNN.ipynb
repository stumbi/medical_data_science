{
 "cells": [
  {
   "cell_type": "code",
   "execution_count": 1,
   "id": "fd18b62b",
   "metadata": {},
   "outputs": [],
   "source": [
    "import numpy as np\n",
    "import matplotlib.pyplot as plt\n",
    "\n",
    "from sklearn import metrics\n",
    "from sklearn.metrics import classification_report\n",
    "from sklearn import preprocessing\n",
    "\n",
    "import keras\n",
    "from keras.models import Sequential\n",
    "from keras.layers import Dense, Dropout, Flatten, Reshape\n",
    "from keras.layers import Conv2D, MaxPooling2D\n",
    "from keras.utils import np_utils\n",
    "from tensorflow.keras import models, layers, utils, backend as K"
   ]
  },
  {
   "cell_type": "code",
   "execution_count": 2,
   "id": "b253228f",
   "metadata": {},
   "outputs": [],
   "source": [
    "#labels\n",
    "LABELS = ['Standing',\n",
    "          'Sitting',\n",
    "          'Lying',\n",
    "          'Squatting',\n",
    "          'Walking',\n",
    "          'Bending']\n",
    "\n",
    "labeldict = {\n",
    "0 : \"Bring\",\n",
    "1 : \"Clean Floor\",\n",
    "2 : \"Clean Surface\",\n",
    "4 : \"Close Door\",\n",
    "5 : \"Close Drawer\",\n",
    "6 : \"Close Lid By Rotate\",\n",
    "7 : \"Close Other Lid\",\n",
    "8 : \"Close Small Box\",\n",
    "9 : \"Close Tap Water\",\n",
    "10 : \"Drink\",\n",
    "11 : \"Dry Off Hands\",\n",
    "12 : \"Dry Off Hands By Shake\",\n",
    "13 : \"Eat Small\",\n",
    "14 : \"Gargle\",\n",
    "15 : \"Getting Up\",\n",
    "16 : \"Hang\",\n",
    "17 : \"Lying Down\",\n",
    "18 : \"Open Bag\",\n",
    "19 : \"Open Big Box\",\n",
    "20 : \"Open Door\",\n",
    "21 : \"Open Drawer\",\n",
    "22 : \"Open Lid By Rotate\",\n",
    "23 : \"Open Other Lid\",\n",
    "24 : \"Open Small Box\",\n",
    "25 : \"Open Tap Water\",\n",
    "26 : \"Plug In\",\n",
    "27 : \"Press by Grasp\",\n",
    "28 : \"Press From Top\",\n",
    "29 : \"Press Switch\",\n",
    "30 : \"Put From Bottle\",\n",
    "31 : \"Put From Tap Water\",\n",
    "32 : \"Put High Position\",\n",
    "33 : \"Put On Floor\",\n",
    "34 : \"Read\",\n",
    "35 : \"Rotate\",\n",
    "36 : \"Rub Hands\",\n",
    "37 : \"Scoop And Put\",\n",
    "38 : \"Sitting Down\",\n",
    "39 : \"Squatting Down\",\n",
    "40 : \"Standing Up\",\n",
    "41 : \"Stand Up From Squatting\",\n",
    "42 : \"Take From Floor\",\n",
    "43 : \"Take From High Position\",\n",
    "44 : \"Take Off Jacket\",\n",
    "45 : \"Take Out\",\n",
    "46 : \"Talk By Telephone\",\n",
    "47 : \"Throw Out\",\n",
    "48 : \"Throw Out Water\",\n",
    "49 : \"Touch Smartphone Screen\",\n",
    "50 : \"Type\",\n",
    "51 : \"Unhang\",\n",
    "52 : \"Unplug\",\n",
    "53 : \"Wear Jacket\",\n",
    "54 : \"Write\"\n",
    "}\n",
    "\n",
    "#load data\n",
    "#training\n",
    "train_acc = np.load('training/trainAccelerometer.npy')\n",
    "train_gra = np.load('training/trainGravity.npy')\n",
    "train_gyr = np.load('training/trainGyroscope.npy')\n",
    "train_lin = np.load('training/trainLinearAcceleration.npy')\n",
    "\n",
    "train_mag = np.load('training/trainMagnetometer800.npy')\n",
    "\n",
    "trainJins_acc = np.load('training/trainJinsAccelerometer800.npy')\n",
    "trainJins_gyr = np.load('training/trainJinsGyroscope800.npy')\n",
    "\n",
    "trainMS_acc = np.load('training/trainMSAccelerometer800.npy')\n",
    "trainMS_gyr = np.load('training/trainMSGyroscope800.npy')\n",
    "\n",
    "train_label = np.load('training/trainLabels.npy')\n",
    "\n",
    "#train_data = [train_acc, train_gra, train_gyr, train_lin, train_mag, trainJins_acc, trainJins_gyr, trainMS_acc, trainMS_gyr]\n",
    "\n",
    "test_acc = np.load('testing/testAccelerometer.npy')\n",
    "test_gra = np.load('testing/testGravity.npy')\n",
    "test_gyr = np.load('testing/testGyroscope.npy')\n",
    "test_mag = np.load('testing/testMagnetometer800.npy')\n",
    "test_lin = np.load('testing/testLinearAcceleration.npy')\n",
    "\n",
    "testJins_acc = np.load('testing/testJinsAccelerometer800.npy')\n",
    "testJins_gyr = np.load('testing/testJinsGyroscope800.npy')\n",
    "\n",
    "testMS_acc = np.load('testing/testMSAccelerometer800.npy')\n",
    "testMS_gyr = np.load('testing/testMSGyroscope800.npy')\n",
    "\n",
    "test_label = np.load('testing/testLabels.npy')\n",
    "\n",
    "#test_data = [test_acc, test_gra, test_gyr, test_lin, test_mag, testJins_acc, testJins_gyr, testMS_acc, testMS_gyr]"
   ]
  },
  {
   "cell_type": "code",
   "execution_count": 3,
   "id": "83bc23f4",
   "metadata": {},
   "outputs": [],
   "source": [
    "#ToDo: : smartphone/smartwatch placed in the left pocket/on the left arm differences \n",
    "#between left and right hand executions for some behavioural activities"
   ]
  },
  {
   "cell_type": "code",
   "execution_count": 4,
   "id": "7b742d9f",
   "metadata": {},
   "outputs": [
    {
     "name": "stdout",
     "output_type": "stream",
     "text": [
      "(2284, 800, 27)\n",
      "(2288, 800, 27)\n",
      "2288\n",
      "float32\n"
     ]
    }
   ],
   "source": [
    "#create input feature vector\n",
    "\n",
    "#train vector\n",
    "train_data = [train_gyr, train_mag, train_lin, trainJins_acc, trainJins_gyr, trainMS_acc, trainMS_gyr]\n",
    "\n",
    "train_features = np.append(train_acc, train_gra, axis=2)\n",
    "for i in train_data:\n",
    "    train_features = np.append(train_features, i, axis=2)\n",
    "\n",
    "print(train_features.shape)\n",
    "#print(train_features)\n",
    "\n",
    "\n",
    "#test vector\n",
    "test_data = [ test_gyr, test_mag, test_lin, testJins_acc, testJins_gyr, testMS_acc, testMS_gyr]\n",
    "test_features = np.append(test_acc, test_gra, axis =2)\n",
    "for i in test_data:\n",
    "    test_features = np.append(test_features, i, axis=2)\n",
    "\n",
    "print(test_features.shape)\n",
    "print(test_features.shape[0])\n",
    "print(test_features.dtype)\n",
    "#print(test_features[0])"
   ]
  },
  {
   "cell_type": "code",
   "execution_count": 5,
   "id": "3466a273",
   "metadata": {},
   "outputs": [
    {
     "data": {
      "image/png": "[encoded data removed]",
      "text/plain": [
       "<Figure size 432x288 with 1 Axes>"
      ]
     },
     "metadata": {
      "needs_background": "light"
     },
     "output_type": "display_data"
    },
    {
     "name": "stdout",
     "output_type": "stream",
     "text": [
      "Bring\n"
     ]
    }
   ],
   "source": [
    "#print(test_label)\n",
    "#print(train_features)\n",
    "#all samples of first activity\n",
    "n = 0\n",
    "plt.plot(train_features[n])\n",
    "plt.show()\n",
    "print(labeldict[n])"
   ]
  },
  {
   "cell_type": "code",
   "execution_count": 6,
   "id": "79c09912",
   "metadata": {},
   "outputs": [
    {
     "name": "stdout",
     "output_type": "stream",
     "text": [
      "train_features shape: (2284, 21600)\n",
      "input_shape: 21600\n"
     ]
    }
   ],
   "source": [
    "#set input and output dimensions\n",
    "num_time_periods, num_sensors = train_features.shape[1], train_features.shape[2]\n",
    "num_classes = 55\n",
    "\n",
    "#keras are not able to process multi-dimensional input data - data needs to be flatten - from 800x27 to 21600 values\n",
    "input_shape = (num_time_periods * num_sensors)\n",
    "train_features = train_features.reshape(train_features.shape[0], input_shape)\n",
    "\n",
    "print('train_features shape:', train_features.shape)\n",
    "print('input_shape:', input_shape)"
   ]
  },
  {
   "cell_type": "code",
   "execution_count": 7,
   "id": "add0546e",
   "metadata": {},
   "outputs": [
    {
     "name": "stdout",
     "output_type": "stream",
     "text": [
      "New y_train shape:  (2284, 55)\n"
     ]
    }
   ],
   "source": [
    "#numeric values can be misinterpreted by algorithms as having some sort of hierarchy/order in them\n",
    "#done with one-hot-encoding\n",
    "y_train_hot = np_utils.to_categorical(train_label, num_classes)\n",
    "print('New y_train shape: ', y_train_hot.shape)"
   ]
  },
  {
   "cell_type": "code",
   "execution_count": 8,
   "id": "c4cc9b27",
   "metadata": {},
   "outputs": [
    {
     "name": "stdout",
     "output_type": "stream",
     "text": [
      "Model: \"sequential\"\n",
      "_________________________________________________________________\n",
      " Layer (type)                Output Shape              Param #   \n",
      "=================================================================\n",
      " reshape (Reshape)           (None, 800, 27)           0         \n",
      "                                                                 \n",
      " dense (Dense)               (None, 800, 100)          2800      \n",
      "                                                                 \n",
      " dense_1 (Dense)             (None, 800, 100)          10100     \n",
      "                                                                 \n",
      " dense_2 (Dense)             (None, 800, 100)          10100     \n",
      "                                                                 \n",
      " flatten (Flatten)           (None, 80000)             0         \n",
      "                                                                 \n",
      " dense_3 (Dense)             (None, 55)                4400055   \n",
      "                                                                 \n",
      "=================================================================\n",
      "Total params: 4,423,055\n",
      "Trainable params: 4,423,055\n",
      "Non-trainable params: 0\n",
      "_________________________________________________________________\n"
     ]
    }
   ],
   "source": [
    "#create model\n",
    "#number of hidden layer: around (number of inputs + 1)/2\n",
    "\n",
    "#(input: ?-dimensional vectors) \n",
    "#       ↧\n",
    "\n",
    "#.\n",
    "#.\n",
    "#.\n",
    "#       ↧\n",
    "#[Dense (1? units, softmax activation)]\n",
    "#       ↧\n",
    "#(output: integer for human activity (0-54))\n",
    "\n",
    "#training data:\n",
    "X_train = train_features\n",
    "Y_train = train_label\n",
    "\n",
    "X_test = test_features\n",
    "Y_test = test_label\n",
    "\n",
    "#create layers - ToDo: need to be adapted\n",
    "TIME_PERIODS = 800\n",
    "\n",
    "model = Sequential()\n",
    "model.add(Reshape((TIME_PERIODS, 27), input_shape=(input_shape,)))\n",
    "model.add(Dense(100, activation='sigmoid'))\n",
    "model.add(Dense(100, activation='sigmoid'))\n",
    "model.add(Dense(100, activation='sigmoid'))\n",
    "model.add(Flatten())\n",
    "model.add(Dense(55, activation='softmax'))\n",
    "\n",
    "model.summary()\n",
    "\n",
    "##stop training with best model if no improvement of loss after patience=1 iterations ToDo: find good stop point\n",
    "callbacks_list = [\n",
    "    #keras.callbacks.ModelCheckpoint(filepath='best_model.{epoch:02d}-{val_loss:.2f}.h5', monitor='val_loss', save_best_only=True),\n",
    "keras.callbacks.EarlyStopping(monitor='loss', patience=1)\n",
    "]"
   ]
  },
  {
   "cell_type": "code",
   "execution_count": 9,
   "id": "d1394175",
   "metadata": {},
   "outputs": [],
   "source": [
    "#Evaluation metrices that has to be used (objectives of project): accuracy, Average F1-score \n",
    "# ToDO: and Mean Average Precision (code provided on moodle) - needs to be added\n",
    "\n",
    "# define metrics\n",
    "def Recall(y_true, y_pred):\n",
    "    true_positives = K.sum(K.round(K.clip(y_true * y_pred, 0, 1)))\n",
    "    possible_positives = K.sum(K.round(K.clip(y_true, 0, 1)))\n",
    "    recall = true_positives / (possible_positives + K.epsilon())\n",
    "    return recall\n",
    "\n",
    "def Precision(y_true, y_pred):\n",
    "    true_positives = K.sum(K.round(K.clip(y_true * y_pred, 0, 1)))\n",
    "    predicted_positives = K.sum(K.round(K.clip(y_pred, 0, 1)))\n",
    "    precision = true_positives / (predicted_positives + K.epsilon())\n",
    "    return precision\n",
    "\n",
    "def F1(y_true, y_pred):\n",
    "    precision = Precision(y_true, y_pred)\n",
    "    recall = Recall(y_true, y_pred)\n",
    "    return 2*((precision*recall)/(precision+recall+K.epsilon()))\n",
    "\n",
    "#taken from moodle\n",
    "def computeMeanAveragePrecision(labels,softmaxEstimations):\n",
    "\n",
    "    nbExamples , nbClasses = softmaxEstimations.shape\n",
    "\n",
    "    averagePrecisions = np.zeros((nbClasses),dtype=np.float32)\n",
    "\n",
    "    # For all classes\n",
    "    for classIdx in range(nbClasses):\n",
    "\n",
    "        # Sort the softmaxEstimations by decreasing order, and keep the order consistent with the labels\n",
    "        permutation = list(reversed(np.argsort(softmaxEstimations[:,classIdx])))\n",
    "        labelArray = np.asarray(labels)\n",
    "        labelsTmp = list(labelArray[permutation])\n",
    "\n",
    "        # Convert the labels to binary (1-vs-all)\n",
    "        for idx in range(len(labelsTmp)):\n",
    "            if labelsTmp[idx] == classIdx:\n",
    "                labelsTmp[idx] = 1\n",
    "            else:\n",
    "                labelsTmp[idx] = 0\n",
    "\n",
    "        # Compute the averaged sum of precisions by descending order\n",
    "        nbPrecisionComputations = 0\n",
    "        averagePrecisionSum = 0\n",
    "\n",
    "        for idx in range(len(labelsTmp)):\n",
    "            if labelsTmp[idx] == 1:\n",
    "                averagePrecisionSum += np.sum(labelsTmp[:idx+1])/float(idx+1)\n",
    "                nbPrecisionComputations += 1\n",
    "\n",
    "        if nbPrecisionComputations == 0:\n",
    "             averagePrecisions[classIdx] = 0\n",
    "        else:\n",
    "            averagePrecisions[classIdx] = averagePrecisionSum/float(nbPrecisionComputations)\n",
    "\n",
    "    # Return global MAP and class MAPs\n",
    "    return np.mean(averagePrecisions), averagePrecisions\n"
   ]
  },
  {
   "cell_type": "code",
   "execution_count": 10,
   "id": "6725192a",
   "metadata": {},
   "outputs": [
    {
     "name": "stdout",
     "output_type": "stream",
     "text": [
      "Epoch 1/50\n",
      "5/5 [==============================] - 8s 1s/step - loss: 50.8019 - accuracy: 0.0235 - F1: 0.0066 - val_loss: 82.2226 - val_accuracy: 0.0131 - val_F1: 0.0075\n",
      "Epoch 2/50\n",
      "5/5 [==============================] - 5s 1s/step - loss: 81.2275 - accuracy: 0.0159 - F1: 0.0160 - val_loss: 75.2483 - val_accuracy: 0.0175 - val_F1: 0.0250\n"
     ]
    }
   ],
   "source": [
    "# Compile the model\n",
    "model.compile(loss='categorical_crossentropy', optimizer='adam', metrics=['accuracy', F1])\n",
    "\n",
    "# Train the model on the train set\n",
    "BATCH_SIZE = 400\n",
    "EPOCHS = 50\n",
    "history=model.fit(X_train, y_train_hot, batch_size=BATCH_SIZE, callbacks=callbacks_list, epochs=EPOCHS, \n",
    "                  validation_split=0.2, verbose=1)"
   ]
  },
  {
   "cell_type": "code",
   "execution_count": 11,
   "id": "66257f33",
   "metadata": {},
   "outputs": [
    {
     "data": {
      "image/png": "[encoded data removed]",
      "text/plain": [
       "<Figure size 432x288 with 1 Axes>"
      ]
     },
     "metadata": {
      "needs_background": "light"
     },
     "output_type": "display_data"
    },
    {
     "name": "stdout",
     "output_type": "stream",
     "text": [
      "              precision    recall  f1-score   support\n",
      "\n",
      "           0       0.00      0.00      0.00        41\n",
      "           1       0.00      0.00      0.00        42\n",
      "           2       0.00      0.00      0.00        43\n",
      "           3       0.00      0.00      0.00        42\n",
      "           4       0.00      0.00      0.00        48\n",
      "           5       0.00      0.00      0.00        42\n",
      "           6       0.00      0.00      0.00        42\n",
      "           7       0.00      0.00      0.00        46\n",
      "           8       0.00      0.00      0.00        47\n",
      "           9       0.00      0.00      0.00        20\n",
      "          10       0.00      0.00      0.00        45\n",
      "          11       0.00      0.00      0.00        41\n",
      "          12       0.00      0.00      0.00        40\n",
      "          13       0.00      0.00      0.00        40\n",
      "          14       0.00      0.00      0.00        40\n",
      "          15       0.00      0.00      0.00        42\n",
      "          16       0.00      0.00      0.00        40\n",
      "          17       0.00      0.00      0.00        41\n",
      "          18       0.00      0.00      0.00        44\n",
      "          19       0.00      0.00      0.00        40\n",
      "          20       0.00      0.00      0.00        47\n",
      "          21       0.00      0.00      0.00        43\n",
      "          22       0.00      0.00      0.00        40\n",
      "          23       0.00      0.00      0.00        44\n",
      "          24       0.00      0.00      0.00        48\n",
      "          25       0.00      0.00      0.00        20\n",
      "          26       0.00      0.00      0.00        44\n",
      "          27       0.00      0.00      0.00        41\n",
      "          28       0.00      0.00      0.00        44\n",
      "          29       0.00      0.00      0.00        41\n",
      "          30       0.00      0.00      0.00        44\n",
      "          31       0.00      0.00      0.00        39\n",
      "          32       0.00      0.00      0.00        41\n",
      "          33       0.00      0.00      0.00        43\n",
      "          34       0.00      0.00      0.00        43\n",
      "          35       0.00      0.00      0.00        46\n",
      "          36       0.00      0.00      0.00        40\n",
      "          37       0.00      0.00      0.00        40\n",
      "          38       0.00      0.00      0.00        43\n",
      "          39       0.00      0.00      0.00        42\n",
      "          40       0.00      0.00      0.00        42\n",
      "          41       0.02      1.00      0.04        42\n",
      "          42       0.00      0.00      0.00        44\n",
      "          43       0.00      0.00      0.00        40\n",
      "          44       0.00      0.00      0.00        40\n",
      "          45       0.00      0.00      0.00        43\n",
      "          46       0.00      0.00      0.00        45\n",
      "          47       0.00      0.00      0.00        41\n",
      "          48       0.00      0.00      0.00        40\n",
      "          49       0.00      0.00      0.00        39\n",
      "          50       0.00      0.00      0.00        41\n",
      "          51       0.00      0.00      0.00        40\n",
      "          52       0.00      0.00      0.00        44\n",
      "          53       0.00      0.00      0.00        41\n",
      "          54       0.00      0.00      0.00        43\n",
      "\n",
      "    accuracy                           0.02      2284\n",
      "   macro avg       0.00      0.02      0.00      2284\n",
      "weighted avg       0.00      0.02      0.00      2284\n",
      "\n"
     ]
    },
    {
     "name": "stderr",
     "output_type": "stream",
     "text": [
      "C:\\Users\\jasmi\\anaconda3\\lib\\site-packages\\sklearn\\metrics\\_classification.py:1248: UndefinedMetricWarning: Precision and F-score are ill-defined and being set to 0.0 in labels with no predicted samples. Use `zero_division` parameter to control this behavior.\n",
      "  _warn_prf(average, modifier, msg_start, len(result))\n",
      "C:\\Users\\jasmi\\anaconda3\\lib\\site-packages\\sklearn\\metrics\\_classification.py:1248: UndefinedMetricWarning: Precision and F-score are ill-defined and being set to 0.0 in labels with no predicted samples. Use `zero_division` parameter to control this behavior.\n",
      "  _warn_prf(average, modifier, msg_start, len(result))\n",
      "C:\\Users\\jasmi\\anaconda3\\lib\\site-packages\\sklearn\\metrics\\_classification.py:1248: UndefinedMetricWarning: Precision and F-score are ill-defined and being set to 0.0 in labels with no predicted samples. Use `zero_division` parameter to control this behavior.\n",
      "  _warn_prf(average, modifier, msg_start, len(result))\n"
     ]
    }
   ],
   "source": [
    "plt.figure(figsize=(6, 4))\n",
    "plt.plot(history.history['accuracy'], 'r', label='Accuracy of training data')\n",
    "plt.plot(history.history['val_accuracy'], 'b', label='Accuracy of validation data')\n",
    "plt.plot(history.history['loss'], 'r--', label='Loss of training data')\n",
    "plt.plot(history.history['val_loss'], 'b--', label='Loss of validation data')\n",
    "plt.title('Model Loss')\n",
    "plt.ylabel('Loss')\n",
    "plt.xlabel('Training Epoch')\n",
    "plt.ylim(0)\n",
    "plt.legend()\n",
    "plt.show()\n",
    "\n",
    "# Print confusion matrix for training data\n",
    "y_pred_train = model.predict(train_features)\n",
    "# Take the class with the highest probability from the train predictions\n",
    "max_y_pred_train = np.argmax(y_pred_train, axis=1)\n",
    "print(classification_report(train_label, max_y_pred_train))\n"
   ]
  },
  {
   "cell_type": "code",
   "execution_count": null,
   "id": "87401a0a",
   "metadata": {},
   "outputs": [],
   "source": []
  }
 ],
 "metadata": {
  "kernelspec": {
   "display_name": "Python 3 (ipykernel)",
   "language": "python",
   "name": "python3"
  },
  "language_info": {
   "codemirror_mode": {
    "name": "ipython",
    "version": 3
   },
   "file_extension": ".py",
   "mimetype": "text/x-python",
   "name": "python",
   "nbconvert_exporter": "python",
   "pygments_lexer": "ipython3",
   "version": "3.9.7"
  }
 },
 "nbformat": 4,
 "nbformat_minor": 5
}
