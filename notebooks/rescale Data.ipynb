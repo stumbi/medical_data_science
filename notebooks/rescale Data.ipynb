{
 "cells": [
  {
   "cell_type": "code",
   "execution_count": 1,
   "id": "9dd1bf81",
   "metadata": {},
   "outputs": [],
   "source": [
    "# Smartphone Data already at 200Hz except Magnetometer at 50Hz\n",
    "# Smartwatch Data  at 67Hz (MSAccelerometer & MSGyroscope)\n",
    "# Smartglasses Data  at 20Hz (JinsAccelerometer & JinsGyroscope)\n",
    "# ToDo: Scale Data to 200Hz except Magnetometer because its the only Magnetometer"
   ]
  },
  {
   "cell_type": "code",
   "execution_count": 16,
   "id": "0097ed6c",
   "metadata": {},
   "outputs": [],
   "source": [
    "# IMPORTS\n",
    "import numpy as np\n",
    "import matplotlib.pyplot as plt\n",
    "from scipy import signal"
   ]
  },
  {
   "cell_type": "code",
   "execution_count": 17,
   "id": "70b51cd1",
   "metadata": {},
   "outputs": [
    {
     "name": "stdout",
     "output_type": "stream",
     "text": [
      "(2284, 268, 3) (2284, 268, 3)\n",
      "(2284, 80, 3) (2284, 80, 3)\n"
     ]
    }
   ],
   "source": [
    "# !!!Load TRAINING Data!!!\n",
    "\n",
    "# Smartwatch:\n",
    "t_msacc = np.load(r\"C:\\Users\\manue\\OneDrive\\Lübeck\\SS-22\\MDS4AGT\\Übung\\1\\bbh\\bbh\\training\\trainMSAccelerometer.npy\")\n",
    "t_msgyr = np.load(r\"C:\\Users\\manue\\OneDrive\\Lübeck\\SS-22\\MDS4AGT\\Übung\\1\\bbh\\bbh\\training\\trainMSGyroscope.npy\")\n",
    "print(t_msacc.shape, t_msgyr.shape)\n",
    "\n",
    "# Smartglasses:\n",
    "t_jinacc = np.load(r\"C:\\Users\\manue\\OneDrive\\Lübeck\\SS-22\\MDS4AGT\\Übung\\1\\bbh\\bbh\\training\\trainJinsAccelerometer.npy\")\n",
    "t_jingyr = np.load(r\"C:\\Users\\manue\\OneDrive\\Lübeck\\SS-22\\MDS4AGT\\Übung\\1\\bbh\\bbh\\training\\trainJinsGyroscope.npy\")\n",
    "print(t_jinacc.shape, t_jingyr.shape)"
   ]
  },
  {
   "cell_type": "code",
   "execution_count": 21,
   "id": "2e64c8d9",
   "metadata": {},
   "outputs": [
    {
     "name": "stdout",
     "output_type": "stream",
     "text": [
      "(2284, 800, 3) (2284, 800, 3)\n",
      "(2284, 800, 3) (2284, 800, 3)\n"
     ]
    }
   ],
   "source": [
    "# rescale data and convert back to NumPy-Array:\n",
    "\n",
    "t_msacc800 = []\n",
    "t_msgyr800 = []\n",
    "t_jinacc800 = []\n",
    "t_jingyr800 = []\n",
    "\n",
    "for e in t_msacc:\n",
    "    t_msacc800.append(signal.resample(e, 800))\n",
    "\n",
    "for e in t_msgyr:\n",
    "    t_msgyr800.append(signal.resample(e, 800))\n",
    "    \n",
    "for e in t_jinacc:\n",
    "    t_jinacc800.append(signal.resample(e, 800))\n",
    "\n",
    "for e in t_jingyr:\n",
    "    t_jingyr800.append(signal.resample(e, 800))\n",
    "\n",
    "t_msacc800 = np.array(t_msacc800)\n",
    "t_msgyr800 = np.array(t_msgyr800)\n",
    "t_jinacc800 = np.array(t_jinacc800)\n",
    "t_jingyr800 = np.array(t_jingyr800)\n",
    "    \n",
    "print(t_msacc800.shape, t_msgyr800.shape)\n",
    "print(t_jinacc800.shape, t_jingyr800.shape)"
   ]
  },
  {
   "cell_type": "code",
   "execution_count": 24,
   "id": "8fd7c56f",
   "metadata": {},
   "outputs": [],
   "source": [
    "# save files:\n",
    "\n",
    "np.save(r\"C:\\Users\\manue\\OneDrive\\Lübeck\\SS-22\\MDS4AGT\\Übung\\1\\bbh\\bbh\\training\\trainMSAccelerometer800.npy\", t_msacc800)\n",
    "np.save(r\"C:\\Users\\manue\\OneDrive\\Lübeck\\SS-22\\MDS4AGT\\Übung\\1\\bbh\\bbh\\training\\trainMSGyroscope800.npy\", t_msgyr800)\n",
    "np.save(r\"C:\\Users\\manue\\OneDrive\\Lübeck\\SS-22\\MDS4AGT\\Übung\\1\\bbh\\bbh\\training\\trainJinsAccelerometer800.npy\", t_jinacc800)\n",
    "np.save(r\"C:\\Users\\manue\\OneDrive\\Lübeck\\SS-22\\MDS4AGT\\Übung\\1\\bbh\\bbh\\training\\trainJinsGyroscope800.npy\", t_jingyr800)"
   ]
  },
  {
   "cell_type": "code",
   "execution_count": 25,
   "id": "6f74538e",
   "metadata": {},
   "outputs": [
    {
     "name": "stdout",
     "output_type": "stream",
     "text": [
      "(2288, 268, 3) (2288, 268, 3)\n",
      "(2288, 80, 3) (2288, 80, 3)\n"
     ]
    }
   ],
   "source": [
    "# !!!Load TEST Data!!!\n",
    "\n",
    "# Smartwatch:\n",
    "test_msacc = np.load(r\"C:\\Users\\manue\\OneDrive\\Lübeck\\SS-22\\MDS4AGT\\Übung\\1\\bbh\\bbh\\testing\\testMSAccelerometer.npy\")\n",
    "test_msgyr = np.load(r\"C:\\Users\\manue\\OneDrive\\Lübeck\\SS-22\\MDS4AGT\\Übung\\1\\bbh\\bbh\\testing\\testMSGyroscope.npy\")\n",
    "print(test_msacc.shape, test_msgyr.shape)\n",
    "\n",
    "# Smartglasses:\n",
    "test_jinacc = np.load(r\"C:\\Users\\manue\\OneDrive\\Lübeck\\SS-22\\MDS4AGT\\Übung\\1\\bbh\\bbh\\testing\\testJinsAccelerometer.npy\")\n",
    "test_jingyr = np.load(r\"C:\\Users\\manue\\OneDrive\\Lübeck\\SS-22\\MDS4AGT\\Übung\\1\\bbh\\bbh\\testing\\testJinsGyroscope.npy\")\n",
    "print(test_jinacc.shape, test_jingyr.shape)"
   ]
  },
  {
   "cell_type": "code",
   "execution_count": 26,
   "id": "b02650ab",
   "metadata": {},
   "outputs": [
    {
     "name": "stdout",
     "output_type": "stream",
     "text": [
      "(2288, 800, 3) (2288, 800, 3)\n",
      "(2288, 800, 3) (2288, 800, 3)\n"
     ]
    }
   ],
   "source": [
    "# rescale data and convert back to NumPy-Array:\n",
    "\n",
    "test_msacc800 = []\n",
    "test_msgyr800 = []\n",
    "test_jinacc800 = []\n",
    "test_jingyr800 = []\n",
    "\n",
    "for e in test_msacc:\n",
    "    test_msacc800.append(signal.resample(e, 800))\n",
    "\n",
    "for e in test_msgyr:\n",
    "    test_msgyr800.append(signal.resample(e, 800))\n",
    "    \n",
    "for e in test_jinacc:\n",
    "    test_jinacc800.append(signal.resample(e, 800))\n",
    "\n",
    "for e in test_jingyr:\n",
    "    test_jingyr800.append(signal.resample(e, 800))\n",
    "\n",
    "test_msacc800 = np.array(test_msacc800)\n",
    "test_msgyr800 = np.array(test_msgyr800)\n",
    "test_jinacc800 = np.array(test_jinacc800)\n",
    "test_jingyr800 = np.array(test_jingyr800)\n",
    "    \n",
    "print(test_msacc800.shape, test_msgyr800.shape)\n",
    "print(test_jinacc800.shape, test_jingyr800.shape)"
   ]
  },
  {
   "cell_type": "code",
   "execution_count": 27,
   "id": "f1e87fb1",
   "metadata": {},
   "outputs": [],
   "source": [
    "# save files:\n",
    "\n",
    "np.save(r\"C:\\Users\\manue\\OneDrive\\Lübeck\\SS-22\\MDS4AGT\\Übung\\1\\bbh\\bbh\\testing\\testMSAccelerometer800.npy\", test_msacc800)\n",
    "np.save(r\"C:\\Users\\manue\\OneDrive\\Lübeck\\SS-22\\MDS4AGT\\Übung\\1\\bbh\\bbh\\testing\\testMSGyroscope800.npy\", test_msgyr800)\n",
    "np.save(r\"C:\\Users\\manue\\OneDrive\\Lübeck\\SS-22\\MDS4AGT\\Übung\\1\\bbh\\bbh\\testing\\testJinsAccelerometer800.npy\", test_jinacc800)\n",
    "np.save(r\"C:\\Users\\manue\\OneDrive\\Lübeck\\SS-22\\MDS4AGT\\Übung\\1\\bbh\\bbh\\testing\\testJinsGyroscope800.npy\", test_jingyr800)"
   ]
  },
  {
   "cell_type": "code",
   "execution_count": null,
   "id": "82a0ad88",
   "metadata": {},
   "outputs": [],
   "source": []
  }
 ],
 "metadata": {
  "kernelspec": {
   "display_name": "Python 3 (ipykernel)",
   "language": "python",
   "name": "python3"
  },
  "language_info": {
   "codemirror_mode": {
    "name": "ipython",
    "version": 3
   },
   "file_extension": ".py",
   "mimetype": "text/x-python",
   "name": "python",
   "nbconvert_exporter": "python",
   "pygments_lexer": "ipython3",
   "version": "3.8.13"
  }
 },
 "nbformat": 4,
 "nbformat_minor": 5
}
